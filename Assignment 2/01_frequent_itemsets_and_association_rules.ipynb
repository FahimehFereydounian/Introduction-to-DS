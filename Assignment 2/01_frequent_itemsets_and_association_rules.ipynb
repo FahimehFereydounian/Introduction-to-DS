{
 "cells": [
  {
   "cell_type": "markdown",
   "id": "2ebbb463cc244d62",
   "metadata": {},
   "source": [
    "# Frequent Itemsets and Association Rules"
   ]
  },
  {
   "cell_type": "code",
   "execution_count": 2,
   "id": "f1c6f7ac565b7afd",
   "metadata": {},
   "outputs": [],
   "source": [
    "import pandas as pd\n",
    "import matplotlib.pyplot as plt\n",
    "from mlxtend.frequent_patterns import fpgrowth, fpmax, association_rules"
   ]
  },
  {
   "cell_type": "markdown",
   "id": "c5f237050b86420a",
   "metadata": {},
   "source": [
    "## (a)"
   ]
  },
  {
   "cell_type": "code",
   "execution_count": 3,
   "id": "89dd58c8656cb086",
   "metadata": {},
   "outputs": [
    {
     "data": {
      "text/html": [
       "<div>\n",
       "<style scoped>\n",
       "    .dataframe tbody tr th:only-of-type {\n",
       "        vertical-align: middle;\n",
       "    }\n",
       "\n",
       "    .dataframe tbody tr th {\n",
       "        vertical-align: top;\n",
       "    }\n",
       "\n",
       "    .dataframe thead th {\n",
       "        text-align: right;\n",
       "    }\n",
       "</style>\n",
       "<table border=\"1\" class=\"dataframe\">\n",
       "  <thead>\n",
       "    <tr style=\"text-align: right;\">\n",
       "      <th></th>\n",
       "      <th>BillNo</th>\n",
       "      <th>Itemname</th>\n",
       "      <th>Quantity</th>\n",
       "      <th>Date</th>\n",
       "      <th>Price</th>\n",
       "      <th>CustomerID</th>\n",
       "      <th>Country</th>\n",
       "    </tr>\n",
       "  </thead>\n",
       "  <tbody>\n",
       "    <tr>\n",
       "      <th>0</th>\n",
       "      <td>536370</td>\n",
       "      <td>ALARM CLOCK BAKELIKE PINK</td>\n",
       "      <td>24</td>\n",
       "      <td>01.12.2010 08:45</td>\n",
       "      <td>3.75</td>\n",
       "      <td>12583.0</td>\n",
       "      <td>France</td>\n",
       "    </tr>\n",
       "    <tr>\n",
       "      <th>1</th>\n",
       "      <td>536370</td>\n",
       "      <td>ALARM CLOCK BAKELIKE RED</td>\n",
       "      <td>24</td>\n",
       "      <td>01.12.2010 08:45</td>\n",
       "      <td>3.75</td>\n",
       "      <td>12583.0</td>\n",
       "      <td>France</td>\n",
       "    </tr>\n",
       "    <tr>\n",
       "      <th>2</th>\n",
       "      <td>536370</td>\n",
       "      <td>ALARM CLOCK BAKELIKE GREEN</td>\n",
       "      <td>12</td>\n",
       "      <td>01.12.2010 08:45</td>\n",
       "      <td>3.75</td>\n",
       "      <td>12583.0</td>\n",
       "      <td>France</td>\n",
       "    </tr>\n",
       "    <tr>\n",
       "      <th>3</th>\n",
       "      <td>536370</td>\n",
       "      <td>PANDA AND BUNNIES STICKER SHEET</td>\n",
       "      <td>12</td>\n",
       "      <td>01.12.2010 08:45</td>\n",
       "      <td>0.85</td>\n",
       "      <td>12583.0</td>\n",
       "      <td>France</td>\n",
       "    </tr>\n",
       "    <tr>\n",
       "      <th>4</th>\n",
       "      <td>536370</td>\n",
       "      <td>STARS GIFT TAPE</td>\n",
       "      <td>24</td>\n",
       "      <td>01.12.2010 08:45</td>\n",
       "      <td>0.65</td>\n",
       "      <td>12583.0</td>\n",
       "      <td>France</td>\n",
       "    </tr>\n",
       "  </tbody>\n",
       "</table>\n",
       "</div>"
      ],
      "text/plain": [
       "   BillNo                         Itemname  Quantity              Date  Price  \\\n",
       "0  536370        ALARM CLOCK BAKELIKE PINK        24  01.12.2010 08:45   3.75   \n",
       "1  536370         ALARM CLOCK BAKELIKE RED        24  01.12.2010 08:45   3.75   \n",
       "2  536370       ALARM CLOCK BAKELIKE GREEN        12  01.12.2010 08:45   3.75   \n",
       "3  536370  PANDA AND BUNNIES STICKER SHEET        12  01.12.2010 08:45   0.85   \n",
       "4  536370                  STARS GIFT TAPE        24  01.12.2010 08:45   0.65   \n",
       "\n",
       "   CustomerID Country  \n",
       "0     12583.0  France  \n",
       "1     12583.0  France  \n",
       "2     12583.0  France  \n",
       "3     12583.0  France  \n",
       "4     12583.0  France  "
      ]
     },
     "metadata": {},
     "output_type": "display_data"
    },
    {
     "name": "stdout",
     "output_type": "stream",
     "text": [
      "<class 'pandas.core.frame.DataFrame'>\n",
      "RangeIndex: 29313 entries, 0 to 29312\n",
      "Data columns (total 7 columns):\n",
      " #   Column      Non-Null Count  Dtype  \n",
      "---  ------      --------------  -----  \n",
      " 0   BillNo      29313 non-null  int64  \n",
      " 1   Itemname    29313 non-null  object \n",
      " 2   Quantity    29313 non-null  int64  \n",
      " 3   Date        29313 non-null  object \n",
      " 4   Price       29313 non-null  float64\n",
      " 5   CustomerID  29208 non-null  float64\n",
      " 6   Country     29313 non-null  object \n",
      "dtypes: float64(2), int64(2), object(3)\n",
      "memory usage: 1.6+ MB\n"
     ]
    },
    {
     "data": {
      "text/plain": [
       "None"
      ]
     },
     "metadata": {},
     "output_type": "display_data"
    }
   ],
   "source": [
    "data = pd.read_csv('./frequent_itemsets_and_association_rules/online_retail.csv', sep=';', decimal=',')\n",
    "display(data.head())\n",
    "display(data.info())"
   ]
  },
  {
   "cell_type": "code",
   "execution_count": 10,
   "id": "206cd295611b7717",
   "metadata": {},
   "outputs": [
    {
     "name": "stdout",
     "output_type": "stream",
     "text": [
      "                   Itemname  SalesValuePerItem\n",
      "0                   POSTAGE            59489.5\n",
      "1  REGENCY CAKESTAND 3 TIER            18961.8\n",
      "2        RABBIT NIGHT LIGHT            18836.0\n",
      "\n",
      "The total sales value is:  983566.6499999999\n",
      "        Country  SalesValuePerCountry\n",
      "0   Netherlands             285446.34\n",
      "1       Germany             228867.14\n",
      "2        France             209715.11\n",
      "3         Spain              61577.11\n",
      "4       Belgium              41196.34\n",
      "5        Sweden              38378.33\n",
      "6        Norway              36165.44\n",
      "7      Portugal              33747.10\n",
      "8         Italy              17483.24\n",
      "9       Austria              10198.68\n",
      "10       Poland               7334.65\n",
      "11       Greece               4760.52\n",
      "12      Iceland               4310.00\n",
      "13        Malta               2725.59\n",
      "14    Lithuania               1661.06\n"
     ]
    },
    {
     "name": "stderr",
     "output_type": "stream",
     "text": [
      "C:\\Users\\ferey\\AppData\\Local\\Temp\\ipykernel_35796\\700861784.py:2: DeprecationWarning: DataFrameGroupBy.apply operated on the grouping columns. This behavior is deprecated, and in a future version of pandas the grouping columns will be excluded from the operation. Either pass `include_groups=False` to exclude the groupings or explicitly select the grouping columns after groupby to silence this warning.\n",
      "  SalesValuePerItem = data.groupby('Itemname', group_keys=False).apply(lambda x: (x['Quantity'] * x['Price']).sum())\n",
      "C:\\Users\\ferey\\AppData\\Local\\Temp\\ipykernel_35796\\700861784.py:13: DeprecationWarning: DataFrameGroupBy.apply operated on the grouping columns. This behavior is deprecated, and in a future version of pandas the grouping columns will be excluded from the operation. Either pass `include_groups=False` to exclude the groupings or explicitly select the grouping columns after groupby to silence this warning.\n",
      "  SalesValuePerCountry = data.groupby('Country', group_keys=False).apply(lambda x: (x['Quantity'] * x['Price']).sum())\n"
     ]
    },
    {
     "data": {
      "text/plain": [
       "<BarContainer object of 15 artists>"
      ]
     },
     "execution_count": 10,
     "metadata": {},
     "output_type": "execute_result"
    },
    {
     "data": {
      "image/png": "[encoded data removed]",
      "text/plain": [
       "<Figure size 1500x500 with 1 Axes>"
      ]
     },
     "metadata": {},
     "output_type": "display_data"
    }
   ],
   "source": [
    "# Calculate the total sales value for each item \n",
    "SalesValuePerItem = data.groupby('Itemname', group_keys=False).apply(lambda x: (x['Quantity'] * x['Price']).sum())\n",
    "SortedSalesValuePerItem = SalesValuePerItem.sort_values(ascending=False).reset_index(name='SalesValuePerItem')\n",
    "\n",
    "# Display the top 3 items with the highest sales value\n",
    "print(SortedSalesValuePerItem.head(3))\n",
    "  \n",
    "#Calculate the total sales value\n",
    "SumOfSalesValue = SalesValuePerItem.sum()\n",
    "print(\"\\nThe total sales value is: \", SumOfSalesValue)\n",
    "\n",
    "# Calculate the total sales value for each country\n",
    "SalesValuePerCountry = data.groupby('Country', group_keys=False).apply(lambda x: (x['Quantity'] * x['Price']).sum())\n",
    "SortedSalesValuePerCountry = SalesValuePerCountry.sort_values(ascending=False).reset_index(name='SalesValuePerCountry')\n",
    "print(SortedSalesValuePerCountry)\n",
    "\n",
    "# Plot the total sales value for each country\n",
    "plt.figure(figsize=(15, 5))\n",
    "plt.bar(SortedSalesValuePerCountry['Country'], SortedSalesValuePerCountry['SalesValuePerCountry'], color='purple')"
   ]
  },
  {
   "cell_type": "markdown",
   "id": "65f7fdaa88642bd",
   "metadata": {},
   "source": [
    "## (b)"
   ]
  },
  {
   "cell_type": "code",
   "execution_count": 52,
   "id": "f926ddb66373e95f",
   "metadata": {},
   "outputs": [
    {
     "data": {
      "text/html": [
       "<div>\n",
       "<style scoped>\n",
       "    .dataframe tbody tr th:only-of-type {\n",
       "        vertical-align: middle;\n",
       "    }\n",
       "\n",
       "    .dataframe tbody tr th {\n",
       "        vertical-align: top;\n",
       "    }\n",
       "\n",
       "    .dataframe thead th {\n",
       "        text-align: right;\n",
       "    }\n",
       "</style>\n",
       "<table border=\"1\" class=\"dataframe\">\n",
       "  <thead>\n",
       "    <tr style=\"text-align: right;\">\n",
       "      <th>Itemname</th>\n",
       "      <th>10 COLOUR SPACEBOY PEN</th>\n",
       "      <th>12 COLOURED PARTY BALLOONS</th>\n",
       "      <th>12 EGG HOUSE PAINTED WOOD</th>\n",
       "      <th>12 IVORY ROSE PEG PLACE SETTINGS</th>\n",
       "      <th>12 MESSAGE CARDS WITH ENVELOPES</th>\n",
       "      <th>12 PENCIL SMALL TUBE WOODLAND</th>\n",
       "      <th>12 PENCILS SMALL TUBE RED RETROSPOT</th>\n",
       "      <th>12 PENCILS SMALL TUBE SKULL</th>\n",
       "      <th>12 PENCILS TALL TUBE POSY</th>\n",
       "      <th>12 PENCILS TALL TUBE RED RETROSPOT</th>\n",
       "      <th>...</th>\n",
       "      <th>ZINC FOLKART SLEIGH BELLS</th>\n",
       "      <th>ZINC HEART FLOWER T-LIGHT HOLDER</th>\n",
       "      <th>ZINC HEART LATTICE CHARGER LARGE</th>\n",
       "      <th>ZINC HEART LATTICE T-LIGHT HOLDER</th>\n",
       "      <th>ZINC HERB GARDEN CONTAINER</th>\n",
       "      <th>ZINC METAL HEART DECORATION</th>\n",
       "      <th>ZINC T-LIGHT HOLDER STAR LARGE</th>\n",
       "      <th>ZINC T-LIGHT HOLDER STARS SMALL</th>\n",
       "      <th>ZINC WILLIE WINKIE  CANDLE STICK</th>\n",
       "      <th>ZINC WIRE KITCHEN ORGANISER</th>\n",
       "    </tr>\n",
       "    <tr>\n",
       "      <th>BillNo</th>\n",
       "      <th></th>\n",
       "      <th></th>\n",
       "      <th></th>\n",
       "      <th></th>\n",
       "      <th></th>\n",
       "      <th></th>\n",
       "      <th></th>\n",
       "      <th></th>\n",
       "      <th></th>\n",
       "      <th></th>\n",
       "      <th></th>\n",
       "      <th></th>\n",
       "      <th></th>\n",
       "      <th></th>\n",
       "      <th></th>\n",
       "      <th></th>\n",
       "      <th></th>\n",
       "      <th></th>\n",
       "      <th></th>\n",
       "      <th></th>\n",
       "      <th></th>\n",
       "    </tr>\n",
       "  </thead>\n",
       "  <tbody>\n",
       "    <tr>\n",
       "      <th>536370</th>\n",
       "      <td>False</td>\n",
       "      <td>False</td>\n",
       "      <td>False</td>\n",
       "      <td>False</td>\n",
       "      <td>False</td>\n",
       "      <td>False</td>\n",
       "      <td>False</td>\n",
       "      <td>False</td>\n",
       "      <td>False</td>\n",
       "      <td>False</td>\n",
       "      <td>...</td>\n",
       "      <td>False</td>\n",
       "      <td>False</td>\n",
       "      <td>False</td>\n",
       "      <td>False</td>\n",
       "      <td>False</td>\n",
       "      <td>False</td>\n",
       "      <td>False</td>\n",
       "      <td>False</td>\n",
       "      <td>False</td>\n",
       "      <td>False</td>\n",
       "    </tr>\n",
       "    <tr>\n",
       "      <th>536403</th>\n",
       "      <td>False</td>\n",
       "      <td>False</td>\n",
       "      <td>False</td>\n",
       "      <td>False</td>\n",
       "      <td>False</td>\n",
       "      <td>False</td>\n",
       "      <td>False</td>\n",
       "      <td>False</td>\n",
       "      <td>False</td>\n",
       "      <td>False</td>\n",
       "      <td>...</td>\n",
       "      <td>False</td>\n",
       "      <td>False</td>\n",
       "      <td>False</td>\n",
       "      <td>False</td>\n",
       "      <td>False</td>\n",
       "      <td>False</td>\n",
       "      <td>False</td>\n",
       "      <td>False</td>\n",
       "      <td>False</td>\n",
       "      <td>False</td>\n",
       "    </tr>\n",
       "    <tr>\n",
       "      <th>536527</th>\n",
       "      <td>False</td>\n",
       "      <td>False</td>\n",
       "      <td>False</td>\n",
       "      <td>False</td>\n",
       "      <td>False</td>\n",
       "      <td>False</td>\n",
       "      <td>False</td>\n",
       "      <td>False</td>\n",
       "      <td>False</td>\n",
       "      <td>False</td>\n",
       "      <td>...</td>\n",
       "      <td>False</td>\n",
       "      <td>False</td>\n",
       "      <td>False</td>\n",
       "      <td>False</td>\n",
       "      <td>False</td>\n",
       "      <td>False</td>\n",
       "      <td>False</td>\n",
       "      <td>False</td>\n",
       "      <td>False</td>\n",
       "      <td>False</td>\n",
       "    </tr>\n",
       "    <tr>\n",
       "      <th>536532</th>\n",
       "      <td>False</td>\n",
       "      <td>False</td>\n",
       "      <td>False</td>\n",
       "      <td>False</td>\n",
       "      <td>False</td>\n",
       "      <td>False</td>\n",
       "      <td>False</td>\n",
       "      <td>False</td>\n",
       "      <td>False</td>\n",
       "      <td>False</td>\n",
       "      <td>...</td>\n",
       "      <td>False</td>\n",
       "      <td>False</td>\n",
       "      <td>False</td>\n",
       "      <td>False</td>\n",
       "      <td>False</td>\n",
       "      <td>False</td>\n",
       "      <td>False</td>\n",
       "      <td>False</td>\n",
       "      <td>False</td>\n",
       "      <td>False</td>\n",
       "    </tr>\n",
       "    <tr>\n",
       "      <th>536840</th>\n",
       "      <td>False</td>\n",
       "      <td>False</td>\n",
       "      <td>False</td>\n",
       "      <td>False</td>\n",
       "      <td>False</td>\n",
       "      <td>False</td>\n",
       "      <td>False</td>\n",
       "      <td>False</td>\n",
       "      <td>False</td>\n",
       "      <td>False</td>\n",
       "      <td>...</td>\n",
       "      <td>False</td>\n",
       "      <td>False</td>\n",
       "      <td>False</td>\n",
       "      <td>False</td>\n",
       "      <td>False</td>\n",
       "      <td>False</td>\n",
       "      <td>False</td>\n",
       "      <td>False</td>\n",
       "      <td>False</td>\n",
       "      <td>False</td>\n",
       "    </tr>\n",
       "  </tbody>\n",
       "</table>\n",
       "<p>5 rows × 2489 columns</p>\n",
       "</div>"
      ],
      "text/plain": [
       "Itemname  10 COLOUR SPACEBOY PEN  12 COLOURED PARTY BALLOONS  \\\n",
       "BillNo                                                         \n",
       "536370                     False                       False   \n",
       "536403                     False                       False   \n",
       "536527                     False                       False   \n",
       "536532                     False                       False   \n",
       "536840                     False                       False   \n",
       "\n",
       "Itemname  12 EGG HOUSE PAINTED WOOD  12 IVORY ROSE PEG PLACE SETTINGS  \\\n",
       "BillNo                                                                  \n",
       "536370                        False                             False   \n",
       "536403                        False                             False   \n",
       "536527                        False                             False   \n",
       "536532                        False                             False   \n",
       "536840                        False                             False   \n",
       "\n",
       "Itemname  12 MESSAGE CARDS WITH ENVELOPES  12 PENCIL SMALL TUBE WOODLAND  \\\n",
       "BillNo                                                                     \n",
       "536370                              False                          False   \n",
       "536403                              False                          False   \n",
       "536527                              False                          False   \n",
       "536532                              False                          False   \n",
       "536840                              False                          False   \n",
       "\n",
       "Itemname  12 PENCILS SMALL TUBE RED RETROSPOT  12 PENCILS SMALL TUBE SKULL  \\\n",
       "BillNo                                                                       \n",
       "536370                                  False                        False   \n",
       "536403                                  False                        False   \n",
       "536527                                  False                        False   \n",
       "536532                                  False                        False   \n",
       "536840                                  False                        False   \n",
       "\n",
       "Itemname  12 PENCILS TALL TUBE POSY  12 PENCILS TALL TUBE RED RETROSPOT  ...  \\\n",
       "BillNo                                                                   ...   \n",
       "536370                        False                               False  ...   \n",
       "536403                        False                               False  ...   \n",
       "536527                        False                               False  ...   \n",
       "536532                        False                               False  ...   \n",
       "536840                        False                               False  ...   \n",
       "\n",
       "Itemname  ZINC FOLKART SLEIGH BELLS  ZINC HEART FLOWER T-LIGHT HOLDER  \\\n",
       "BillNo                                                                  \n",
       "536370                        False                             False   \n",
       "536403                        False                             False   \n",
       "536527                        False                             False   \n",
       "536532                        False                             False   \n",
       "536840                        False                             False   \n",
       "\n",
       "Itemname  ZINC HEART LATTICE CHARGER LARGE  ZINC HEART LATTICE T-LIGHT HOLDER  \\\n",
       "BillNo                                                                          \n",
       "536370                               False                              False   \n",
       "536403                               False                              False   \n",
       "536527                               False                              False   \n",
       "536532                               False                              False   \n",
       "536840                               False                              False   \n",
       "\n",
       "Itemname  ZINC HERB GARDEN CONTAINER  ZINC METAL HEART DECORATION  \\\n",
       "BillNo                                                              \n",
       "536370                         False                        False   \n",
       "536403                         False                        False   \n",
       "536527                         False                        False   \n",
       "536532                         False                        False   \n",
       "536840                         False                        False   \n",
       "\n",
       "Itemname  ZINC T-LIGHT HOLDER STAR LARGE  ZINC T-LIGHT HOLDER STARS SMALL  \\\n",
       "BillNo                                                                      \n",
       "536370                             False                            False   \n",
       "536403                             False                            False   \n",
       "536527                             False                            False   \n",
       "536532                             False                            False   \n",
       "536840                             False                            False   \n",
       "\n",
       "Itemname  ZINC WILLIE WINKIE  CANDLE STICK  ZINC WIRE KITCHEN ORGANISER  \n",
       "BillNo                                                                   \n",
       "536370                               False                        False  \n",
       "536403                               False                        False  \n",
       "536527                               False                        False  \n",
       "536532                               False                        False  \n",
       "536840                               False                        False  \n",
       "\n",
       "[5 rows x 2489 columns]"
      ]
     },
     "metadata": {},
     "output_type": "display_data"
    },
    {
     "data": {
      "text/html": [
       "<div>\n",
       "<style scoped>\n",
       "    .dataframe tbody tr th:only-of-type {\n",
       "        vertical-align: middle;\n",
       "    }\n",
       "\n",
       "    .dataframe tbody tr th {\n",
       "        vertical-align: top;\n",
       "    }\n",
       "\n",
       "    .dataframe thead th {\n",
       "        text-align: right;\n",
       "    }\n",
       "</style>\n",
       "<table border=\"1\" class=\"dataframe\">\n",
       "  <thead>\n",
       "    <tr style=\"text-align: right;\">\n",
       "      <th></th>\n",
       "      <th>Date</th>\n",
       "      <th>CustomerID</th>\n",
       "      <th>Country</th>\n",
       "    </tr>\n",
       "    <tr>\n",
       "      <th>BillNo</th>\n",
       "      <th></th>\n",
       "      <th></th>\n",
       "      <th></th>\n",
       "    </tr>\n",
       "  </thead>\n",
       "  <tbody>\n",
       "    <tr>\n",
       "      <th>536370</th>\n",
       "      <td>01.12.2010 08:45</td>\n",
       "      <td>12583.0</td>\n",
       "      <td>France</td>\n",
       "    </tr>\n",
       "    <tr>\n",
       "      <th>536403</th>\n",
       "      <td>01.12.2010 11:27</td>\n",
       "      <td>12791.0</td>\n",
       "      <td>Netherlands</td>\n",
       "    </tr>\n",
       "    <tr>\n",
       "      <th>536527</th>\n",
       "      <td>01.12.2010 13:04</td>\n",
       "      <td>12662.0</td>\n",
       "      <td>Germany</td>\n",
       "    </tr>\n",
       "    <tr>\n",
       "      <th>536532</th>\n",
       "      <td>01.12.2010 13:24</td>\n",
       "      <td>12433.0</td>\n",
       "      <td>Norway</td>\n",
       "    </tr>\n",
       "    <tr>\n",
       "      <th>536840</th>\n",
       "      <td>02.12.2010 18:27</td>\n",
       "      <td>12738.0</td>\n",
       "      <td>Germany</td>\n",
       "    </tr>\n",
       "  </tbody>\n",
       "</table>\n",
       "</div>"
      ],
      "text/plain": [
       "                    Date  CustomerID      Country\n",
       "BillNo                                           \n",
       "536370  01.12.2010 08:45     12583.0       France\n",
       "536403  01.12.2010 11:27     12791.0  Netherlands\n",
       "536527  01.12.2010 13:04     12662.0      Germany\n",
       "536532  01.12.2010 13:24     12433.0       Norway\n",
       "536840  02.12.2010 18:27     12738.0      Germany"
      ]
     },
     "metadata": {},
     "output_type": "display_data"
    }
   ],
   "source": [
    "# Create a transaction for each BillNo\n",
    "transactions = data.groupby(['BillNo', 'Itemname'])['Quantity'].sum().unstack().fillna(0).astype(bool)\n",
    "transaction_attributes = data.groupby('BillNo')[['Date', 'CustomerID', 'Country']].first()\n",
    "display(transactions.head())\n",
    "display(transaction_attributes.head())\n",
    "n_transactions = transactions.shape[0]"
   ]
  },
  {
   "cell_type": "code",
   "execution_count": 51,
   "id": "2a3d95973d874959",
   "metadata": {},
   "outputs": [
    {
     "name": "stdout",
     "output_type": "stream",
     "text": [
      "Number of transactions:  1357\n"
     ]
    },
    {
     "data": {
      "text/html": [
       "<div>\n",
       "<style scoped>\n",
       "    .dataframe tbody tr th:only-of-type {\n",
       "        vertical-align: middle;\n",
       "    }\n",
       "\n",
       "    .dataframe tbody tr th {\n",
       "        vertical-align: top;\n",
       "    }\n",
       "\n",
       "    .dataframe thead th {\n",
       "        text-align: right;\n",
       "    }\n",
       "</style>\n",
       "<table border=\"1\" class=\"dataframe\">\n",
       "  <thead>\n",
       "    <tr style=\"text-align: right;\">\n",
       "      <th></th>\n",
       "      <th>Itemname</th>\n",
       "      <th>Support</th>\n",
       "    </tr>\n",
       "  </thead>\n",
       "  <tbody>\n",
       "    <tr>\n",
       "      <th>0</th>\n",
       "      <td>POSTAGE</td>\n",
       "      <td>0.724392</td>\n",
       "    </tr>\n",
       "    <tr>\n",
       "      <th>1</th>\n",
       "      <td>ROUND SNACK BOXES SET OF4 WOODLAND</td>\n",
       "      <td>0.196021</td>\n",
       "    </tr>\n",
       "    <tr>\n",
       "      <th>2</th>\n",
       "      <td>REGENCY CAKESTAND 3 TIER</td>\n",
       "      <td>0.137067</td>\n",
       "    </tr>\n",
       "  </tbody>\n",
       "</table>\n",
       "</div>"
      ],
      "text/plain": [
       "                             Itemname   Support\n",
       "0                             POSTAGE  0.724392\n",
       "1  ROUND SNACK BOXES SET OF4 WOODLAND  0.196021\n",
       "2            REGENCY CAKESTAND 3 TIER  0.137067"
      ]
     },
     "metadata": {},
     "output_type": "display_data"
    },
    {
     "data": {
      "text/plain": [
       "<BarContainer object of 2488 artists>"
      ]
     },
     "execution_count": 51,
     "metadata": {},
     "output_type": "execute_result"
    },
    {
     "data": {
      "image/png": "[encoded data removed]",
      "text/plain": [
       "<Figure size 1200x600 with 1 Axes>"
      ]
     },
     "metadata": {},
     "output_type": "display_data"
    }
   ],
   "source": [
    "# Your code here\n",
    "# Number of transactions contained in the dataset\n",
    "print(\"Number of transactions: \", n_transactions)\n",
    "\n",
    "# Support of each item\n",
    "item_support = transactions.sum(axis=0) / n_transactions\n",
    "item_support = item_support.sort_values(ascending=False).reset_index(name='Support')\n",
    "display(item_support.head(3))\n",
    "\n",
    "#Remove the first row which is the most frequent item\n",
    "item_support_ = item_support.iloc[1:]\n",
    "# Plot the bar chart for the support of each item\n",
    "plt.figure(figsize=(12, 6))\n",
    "plt.xticks([])\n",
    "plt.bar(item_support['Itemname'], item_support['Support'], color='maroon')"
   ]
  },
  {
   "cell_type": "markdown",
   "id": "ec80188e3034ede9",
   "metadata": {},
   "source": [
    "## (c)"
   ]
  },
  {
   "cell_type": "code",
   "execution_count": null,
   "id": "ad4cf78a",
   "metadata": {},
   "outputs": [],
   "source": [
    "#(1 point) Do the three items that occur most frequent across all transactions differ\n",
    "#from the three items that generated the highest sales values? Explain why this is/is\n",
    "#not the case.\n",
    "\n",
    "# Yes, they are not the same although they containt mutual items (which is not in the same rank). The most frequent items are counted by the number of transactions that contain them\n",
    "# without considering the count of that item in each transacion.\n",
    "# On the other hand, the highest sales values are calculated based on the item's price and quantity.\n",
    "# Usually the most frequent items are the items that have the lowest price and are sold in high quantities.\n",
    "# So, the most frequent items are not necessarily the items that generated the highest sales values."
   ]
  },
  {
   "cell_type": "markdown",
   "id": "25324e6db04cd518",
   "metadata": {},
   "source": [
    "## (d)"
   ]
  },
  {
   "cell_type": "code",
   "execution_count": 65,
   "id": "1efff523b039c0e",
   "metadata": {},
   "outputs": [
    {
     "name": "stdout",
     "output_type": "stream",
     "text": [
      "       support                                           itemsets\n",
      "0     0.724392                                          (POSTAGE)\n",
      "1     0.196021               (ROUND SNACK BOXES SET OF4 WOODLAND)\n",
      "580   0.162859      (ROUND SNACK BOXES SET OF4 WOODLAND, POSTAGE)\n",
      "107   0.137067                         (REGENCY CAKESTAND 3 TIER)\n",
      "25    0.135593                 (PLASTERS IN TIN WOODLAND ANIMALS)\n",
      "...        ...                                                ...\n",
      "2901  0.010317         (POSTAGE, AIRLINE BAG VINTAGE JET SET RED)\n",
      "2912  0.010317  (LUNCH BAG DOLLY GIRL DESIGN, LUNCH BOX WITH C...\n",
      "2914  0.010317  (LUNCH BAG DOLLY GIRL DESIGN, PLASTERS IN TIN ...\n",
      "2917  0.010317  (LUNCH BAG DOLLY GIRL DESIGN, POSTAGE, LUNCH B...\n",
      "2922  0.010317  (LUNCH BAG DOLLY GIRL DESIGN, LUNCH BAG WOODLA...\n",
      "\n",
      "[4108 rows x 2 columns]\n",
      "    support                                           itemsets  length\n",
      "0  0.080324  (ROUND SNACK BOXES SET OF4 WOODLAND, POSTAGE, ...       3\n",
      "1  0.053795  (PLASTERS IN TIN WOODLAND ANIMALS, POSTAGE, PL...       3\n",
      "2  0.050847  (PLASTERS IN TIN SPACEBOY, PLASTERS IN TIN WOO...       3\n"
     ]
    }
   ],
   "source": [
    "# Your code here\n",
    "# mine only maximal frequent itemsets with a minimum support of 1%\n",
    "frequent_itemsets = fpgrowth(transactions, min_support=0.01, use_colnames=True)\n",
    "frequent_itemsets.sort_values(by='support', ascending=False, inplace=True)\n",
    "print(frequent_itemsets)\n",
    "\n",
    "# the three most frequent maximal itemsets which include at least three items\n",
    "frequent_itemsets['length'] = frequent_itemsets['itemsets'].apply(len)\n",
    "frequent_itemsets_of_length_3 = frequent_itemsets[(frequent_itemsets['length'] > 2)]\n",
    "frequent_itemsets_of_length_3 = frequent_itemsets_of_length_3.sort_values(by='support', ascending=False).reset_index(drop=True)\n",
    "print(frequent_itemsets_of_length_3.head(3))"
   ]
  },
  {
   "cell_type": "markdown",
   "id": "c9b61e4d96a6d6e4",
   "metadata": {},
   "source": [
    "## (e)"
   ]
  },
  {
   "cell_type": "code",
   "execution_count": null,
   "id": "8a0e5b61c2bd0aed",
   "metadata": {},
   "outputs": [],
   "source": [
    "# Your code here"
   ]
  },
  {
   "cell_type": "markdown",
   "id": "3bbb3648806fbd27",
   "metadata": {},
   "source": [
    "## (f)"
   ]
  },
  {
   "cell_type": "code",
   "execution_count": null,
   "id": "a93a7b8b8b08afa3",
   "metadata": {},
   "outputs": [],
   "source": [
    "# Your code here"
   ]
  },
  {
   "cell_type": "markdown",
   "id": "7cfdc0d54189990e",
   "metadata": {},
   "source": [
    "## (g)"
   ]
  },
  {
   "cell_type": "code",
   "execution_count": null,
   "id": "86ae23211f27f3e4",
   "metadata": {},
   "outputs": [],
   "source": [
    "# Your code here"
   ]
  },
  {
   "cell_type": "markdown",
   "id": "ffc497748b110843",
   "metadata": {},
   "source": [
    "## (h)"
   ]
  },
  {
   "cell_type": "code",
   "execution_count": null,
   "id": "c3acb4900915d24a",
   "metadata": {},
   "outputs": [],
   "source": [
    "# Your code here"
   ]
  },
  {
   "cell_type": "markdown",
   "id": "85781e1c33b1bdda",
   "metadata": {},
   "source": [
    "## (i)"
   ]
  },
  {
   "cell_type": "code",
   "execution_count": null,
   "id": "19afaebd7c12229a",
   "metadata": {},
   "outputs": [],
   "source": [
    "# Your code here"
   ]
  },
  {
   "cell_type": "markdown",
   "id": "dc3e0d5d1ed1ba2d",
   "metadata": {},
   "source": [
    "## (j)"
   ]
  },
  {
   "cell_type": "code",
   "execution_count": null,
   "id": "30974ae37ed3c27e",
   "metadata": {},
   "outputs": [],
   "source": [
    "# Your code here"
   ]
  }
 ],
 "metadata": {
  "kernelspec": {
   "display_name": "Python 3",
   "language": "python",
   "name": "python3"
  },
  "language_info": {
   "codemirror_mode": {
    "name": "ipython",
    "version": 3
   },
   "file_extension": ".py",
   "mimetype": "text/x-python",
   "name": "python",
   "nbconvert_exporter": "python",
   "pygments_lexer": "ipython3",
   "version": "3.13.0"
  }
 },
 "nbformat": 4,
 "nbformat_minor": 5
}
