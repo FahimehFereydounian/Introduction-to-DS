{
 "cells": [
  {
   "cell_type": "markdown",
   "id": "8ada8a3e28064642",
   "metadata": {},
   "source": [
    "# Distributed Data Processing -- Map Reduce"
   ]
  },
  {
   "cell_type": "markdown",
   "id": "f73a053170571c50",
   "metadata": {},
   "source": [
    "This scaffolding allows you to test your MR jobs that you've implemented for a) in `distributed_data_processing/best_movies.py` and for b) in `distributed_data_processing/haters.py`."
   ]
  },
  {
   "cell_type": "markdown",
   "id": "449d133fa3b8a59a",
   "metadata": {},
   "source": [
    "## a)"
   ]
  },
  {
   "cell_type": "code",
   "execution_count": 3,
   "id": "d194a459d91b017c",
   "metadata": {},
   "outputs": [
    {
     "name": "stderr",
     "output_type": "stream",
     "text": [
      "No configs specified for inline runner\n",
      "\n",
      "Error while reading from C:\\Users\\Joost\\AppData\\Local\\Temp\\best_movies.Joost.20250120.132414.181039\\step\\002\\reducer\\00000\\input:\n",
      "\n"
     ]
    },
    {
     "ename": "TypeError",
     "evalue": "a bytes-like object is required, not 'str'",
     "output_type": "error",
     "traceback": [
      "\u001b[1;31m---------------------------------------------------------------------------\u001b[0m",
      "\u001b[1;31mTypeError\u001b[0m                                 Traceback (most recent call last)",
      "Cell \u001b[1;32mIn[3], line 5\u001b[0m\n\u001b[0;32m      3\u001b[0m best_movies \u001b[38;5;241m=\u001b[39m BestMovies(args\u001b[38;5;241m=\u001b[39m[\u001b[38;5;124m'\u001b[39m\u001b[38;5;124m-r\u001b[39m\u001b[38;5;124m'\u001b[39m, \u001b[38;5;124m'\u001b[39m\u001b[38;5;124minline\u001b[39m\u001b[38;5;124m'\u001b[39m, \u001b[38;5;124m'\u001b[39m\u001b[38;5;124mdistributed_data_processing/ratings.csv\u001b[39m\u001b[38;5;124m'\u001b[39m, \u001b[38;5;124m'\u001b[39m\u001b[38;5;124m-o\u001b[39m\u001b[38;5;124m'\u001b[39m, \u001b[38;5;124m'\u001b[39m\u001b[38;5;124mdistributed_data_processing/top\u001b[39m\u001b[38;5;124m'\u001b[39m])\n\u001b[0;32m      4\u001b[0m \u001b[38;5;28;01mwith\u001b[39;00m best_movies\u001b[38;5;241m.\u001b[39mmake_runner() \u001b[38;5;28;01mas\u001b[39;00m runner:\n\u001b[1;32m----> 5\u001b[0m     \u001b[43mrunner\u001b[49m\u001b[38;5;241;43m.\u001b[39;49m\u001b[43mrun\u001b[49m\u001b[43m(\u001b[49m\u001b[43m)\u001b[49m\n\u001b[0;32m      6\u001b[0m     \u001b[38;5;66;03m# print first ten results\u001b[39;00m\n\u001b[0;32m      7\u001b[0m     \u001b[38;5;28;01mfor\u001b[39;00m i, (key, value) \u001b[38;5;129;01min\u001b[39;00m \u001b[38;5;28mzip\u001b[39m(\u001b[38;5;28mrange\u001b[39m(\u001b[38;5;241m10\u001b[39m), best_movies\u001b[38;5;241m.\u001b[39mparse_output(runner\u001b[38;5;241m.\u001b[39mcat_output())):\n",
      "File \u001b[1;32mc:\\Users\\Joost\\anaconda3\\envs\\ids-env\\Lib\\site-packages\\mrjob\\runner.py:503\u001b[0m, in \u001b[0;36mMRJobRunner.run\u001b[1;34m(self)\u001b[0m\n\u001b[0;32m    501\u001b[0m \u001b[38;5;28mself\u001b[39m\u001b[38;5;241m.\u001b[39m_add_input_files_for_upload()\n\u001b[0;32m    502\u001b[0m \u001b[38;5;28mself\u001b[39m\u001b[38;5;241m.\u001b[39m_create_input_manifest_if_needed()\n\u001b[1;32m--> 503\u001b[0m \u001b[38;5;28;43mself\u001b[39;49m\u001b[38;5;241;43m.\u001b[39;49m\u001b[43m_run\u001b[49m\u001b[43m(\u001b[49m\u001b[43m)\u001b[49m\n\u001b[0;32m    504\u001b[0m \u001b[38;5;28mself\u001b[39m\u001b[38;5;241m.\u001b[39m_ran_job \u001b[38;5;241m=\u001b[39m \u001b[38;5;28;01mTrue\u001b[39;00m\n\u001b[0;32m    506\u001b[0m last_step \u001b[38;5;241m=\u001b[39m \u001b[38;5;28mself\u001b[39m\u001b[38;5;241m.\u001b[39m_get_steps()[\u001b[38;5;241m-\u001b[39m\u001b[38;5;241m1\u001b[39m]\n",
      "File \u001b[1;32mc:\\Users\\Joost\\anaconda3\\envs\\ids-env\\Lib\\site-packages\\mrjob\\sim.py:161\u001b[0m, in \u001b[0;36mSimMRJobRunner._run\u001b[1;34m(self)\u001b[0m\n\u001b[0;32m    156\u001b[0m log\u001b[38;5;241m.\u001b[39minfo(\u001b[38;5;124m'\u001b[39m\u001b[38;5;124mRunning step \u001b[39m\u001b[38;5;132;01m%d\u001b[39;00m\u001b[38;5;124m of \u001b[39m\u001b[38;5;132;01m%d\u001b[39;00m\u001b[38;5;124m...\u001b[39m\u001b[38;5;124m'\u001b[39m \u001b[38;5;241m%\u001b[39m (\n\u001b[0;32m    157\u001b[0m     step_num \u001b[38;5;241m+\u001b[39m \u001b[38;5;241m1\u001b[39m, \u001b[38;5;28mself\u001b[39m\u001b[38;5;241m.\u001b[39m_num_steps()))\n\u001b[0;32m    159\u001b[0m \u001b[38;5;28mself\u001b[39m\u001b[38;5;241m.\u001b[39m_counters\u001b[38;5;241m.\u001b[39mappend({})\n\u001b[1;32m--> 161\u001b[0m \u001b[38;5;28;43mself\u001b[39;49m\u001b[38;5;241;43m.\u001b[39;49m\u001b[43m_run_step\u001b[49m\u001b[43m(\u001b[49m\u001b[43mstep\u001b[49m\u001b[43m,\u001b[49m\u001b[43m \u001b[49m\u001b[43mstep_num\u001b[49m\u001b[43m)\u001b[49m\n",
      "File \u001b[1;32mc:\\Users\\Joost\\anaconda3\\envs\\ids-env\\Lib\\site-packages\\mrjob\\sim.py:170\u001b[0m, in \u001b[0;36mSimMRJobRunner._run_step\u001b[1;34m(self, step, step_num)\u001b[0m\n\u001b[0;32m    168\u001b[0m     \u001b[38;5;28mself\u001b[39m\u001b[38;5;241m.\u001b[39m_run_step_on_spark(step, step_num)\n\u001b[0;32m    169\u001b[0m \u001b[38;5;28;01melse\u001b[39;00m:\n\u001b[1;32m--> 170\u001b[0m     \u001b[38;5;28;43mself\u001b[39;49m\u001b[38;5;241;43m.\u001b[39;49m\u001b[43m_run_streaming_step\u001b[49m\u001b[43m(\u001b[49m\u001b[43mstep\u001b[49m\u001b[43m,\u001b[49m\u001b[43m \u001b[49m\u001b[43mstep_num\u001b[49m\u001b[43m)\u001b[49m\n",
      "File \u001b[1;32mc:\\Users\\Joost\\anaconda3\\envs\\ids-env\\Lib\\site-packages\\mrjob\\sim.py:187\u001b[0m, in \u001b[0;36mSimMRJobRunner._run_streaming_step\u001b[1;34m(self, step, step_num)\u001b[0m\n\u001b[0;32m    184\u001b[0m         \u001b[38;5;28mself\u001b[39m\u001b[38;5;241m.\u001b[39m_sort_reducer_input(step_num, \u001b[38;5;28mlen\u001b[39m(map_splits))\n\u001b[0;32m    185\u001b[0m         num_reducer_tasks \u001b[38;5;241m=\u001b[39m \u001b[38;5;28mself\u001b[39m\u001b[38;5;241m.\u001b[39m_split_reducer_input(step_num)\n\u001b[1;32m--> 187\u001b[0m         \u001b[38;5;28;43mself\u001b[39;49m\u001b[38;5;241;43m.\u001b[39;49m\u001b[43m_run_reducers\u001b[49m\u001b[43m(\u001b[49m\u001b[43mstep_num\u001b[49m\u001b[43m,\u001b[49m\u001b[43m \u001b[49m\u001b[43mnum_reducer_tasks\u001b[49m\u001b[43m)\u001b[49m\n\u001b[0;32m    189\u001b[0m     \u001b[38;5;28mself\u001b[39m\u001b[38;5;241m.\u001b[39m_log_counters(step_num)\n\u001b[0;32m    191\u001b[0m \u001b[38;5;28;01mexcept\u001b[39;00m \u001b[38;5;167;01mException\u001b[39;00m \u001b[38;5;28;01mas\u001b[39;00m ex:\n",
      "File \u001b[1;32mc:\\Users\\Joost\\anaconda3\\envs\\ids-env\\Lib\\site-packages\\mrjob\\sim.py:289\u001b[0m, in \u001b[0;36mSimMRJobRunner._run_reducers\u001b[1;34m(self, step_num, num_reducer_tasks)\u001b[0m\n\u001b[0;32m    287\u001b[0m \u001b[38;5;28;01mdef\u001b[39;00m\u001b[38;5;250m \u001b[39m\u001b[38;5;21m_run_reducers\u001b[39m(\u001b[38;5;28mself\u001b[39m, step_num, num_reducer_tasks):\n\u001b[0;32m    288\u001b[0m     \u001b[38;5;28;01mtry\u001b[39;00m:\n\u001b[1;32m--> 289\u001b[0m         \u001b[38;5;28;43mself\u001b[39;49m\u001b[38;5;241;43m.\u001b[39;49m\u001b[43m_run_multiple\u001b[49m\u001b[43m(\u001b[49m\n\u001b[0;32m    290\u001b[0m \u001b[43m            \u001b[49m\u001b[38;5;28;43mself\u001b[39;49m\u001b[38;5;241;43m.\u001b[39;49m\u001b[43m_run_task_func\u001b[49m\u001b[43m(\u001b[49m\u001b[38;5;124;43m'\u001b[39;49m\u001b[38;5;124;43mreducer\u001b[39;49m\u001b[38;5;124;43m'\u001b[39;49m\u001b[43m,\u001b[49m\u001b[43m \u001b[49m\u001b[43mstep_num\u001b[49m\u001b[43m,\u001b[49m\u001b[43m \u001b[49m\u001b[43mtask_num\u001b[49m\u001b[43m)\u001b[49m\n\u001b[0;32m    291\u001b[0m \u001b[43m            \u001b[49m\u001b[38;5;28;43;01mfor\u001b[39;49;00m\u001b[43m \u001b[49m\u001b[43mtask_num\u001b[49m\u001b[43m \u001b[49m\u001b[38;5;129;43;01min\u001b[39;49;00m\u001b[43m \u001b[49m\u001b[38;5;28;43mrange\u001b[39;49m\u001b[43m(\u001b[49m\u001b[43mnum_reducer_tasks\u001b[49m\u001b[43m)\u001b[49m\n\u001b[0;32m    292\u001b[0m \u001b[43m        \u001b[49m\u001b[43m)\u001b[49m\n\u001b[0;32m    293\u001b[0m     \u001b[38;5;28;01mfinally\u001b[39;00m:\n\u001b[0;32m    294\u001b[0m         \u001b[38;5;28mself\u001b[39m\u001b[38;5;241m.\u001b[39m_parse_task_counters(\u001b[38;5;124m'\u001b[39m\u001b[38;5;124mreducer\u001b[39m\u001b[38;5;124m'\u001b[39m, step_num)\n",
      "File \u001b[1;32mc:\\Users\\Joost\\anaconda3\\envs\\ids-env\\Lib\\site-packages\\mrjob\\sim.py:130\u001b[0m, in \u001b[0;36mSimMRJobRunner._run_multiple\u001b[1;34m(self, funcs, num_processes)\u001b[0m\n\u001b[0;32m    124\u001b[0m \u001b[38;5;250m\u001b[39m\u001b[38;5;124;03m\"\"\"Run multiple no-args functions, possibly in parallel using\u001b[39;00m\n\u001b[0;32m    125\u001b[0m \u001b[38;5;124;03m:py:mod:`multiprocessing` (if so all *funcs* must be pickleable).\u001b[39;00m\n\u001b[0;32m    126\u001b[0m \n\u001b[0;32m    127\u001b[0m \u001b[38;5;124;03mBy default, we just call *funcs* one at a time\u001b[39;00m\n\u001b[0;32m    128\u001b[0m \u001b[38;5;124;03m\"\"\"\u001b[39;00m\n\u001b[0;32m    129\u001b[0m \u001b[38;5;28;01mfor\u001b[39;00m func \u001b[38;5;129;01min\u001b[39;00m funcs:\n\u001b[1;32m--> 130\u001b[0m     \u001b[43mfunc\u001b[49m\u001b[43m(\u001b[49m\u001b[43m)\u001b[49m\n",
      "File \u001b[1;32mc:\\Users\\Joost\\anaconda3\\envs\\ids-env\\Lib\\site-packages\\mrjob\\sim.py:746\u001b[0m, in \u001b[0;36m_run_task\u001b[1;34m(invoke_task, task_type, step_num, task_num, input_path, output_path, stderr_path, wd, env)\u001b[0m\n\u001b[0;32m    740\u001b[0m log\u001b[38;5;241m.\u001b[39mdebug(\u001b[38;5;124m'\u001b[39m\u001b[38;5;124mrunning step \u001b[39m\u001b[38;5;132;01m%d\u001b[39;00m\u001b[38;5;124m, \u001b[39m\u001b[38;5;132;01m%s\u001b[39;00m\u001b[38;5;124m \u001b[39m\u001b[38;5;132;01m%d\u001b[39;00m\u001b[38;5;124m'\u001b[39m \u001b[38;5;241m%\u001b[39m (step_num, task_type, task_num))\n\u001b[0;32m    742\u001b[0m \u001b[38;5;28;01mwith\u001b[39;00m \u001b[38;5;28mopen\u001b[39m(input_path, \u001b[38;5;124m'\u001b[39m\u001b[38;5;124mrb\u001b[39m\u001b[38;5;124m'\u001b[39m) \u001b[38;5;28;01mas\u001b[39;00m stdin, \\\n\u001b[0;32m    743\u001b[0m         \u001b[38;5;28mopen\u001b[39m(output_path, \u001b[38;5;124m'\u001b[39m\u001b[38;5;124mwb\u001b[39m\u001b[38;5;124m'\u001b[39m) \u001b[38;5;28;01mas\u001b[39;00m stdout, \\\n\u001b[0;32m    744\u001b[0m         \u001b[38;5;28mopen\u001b[39m(stderr_path, \u001b[38;5;124m'\u001b[39m\u001b[38;5;124mwb\u001b[39m\u001b[38;5;124m'\u001b[39m) \u001b[38;5;28;01mas\u001b[39;00m stderr:\n\u001b[1;32m--> 746\u001b[0m     \u001b[43minvoke_task\u001b[49m\u001b[43m(\u001b[49m\n\u001b[0;32m    747\u001b[0m \u001b[43m        \u001b[49m\u001b[43mstdin\u001b[49m\u001b[43m,\u001b[49m\u001b[43m \u001b[49m\u001b[43mstdout\u001b[49m\u001b[43m,\u001b[49m\u001b[43m \u001b[49m\u001b[43mstderr\u001b[49m\u001b[43m,\u001b[49m\u001b[43m \u001b[49m\u001b[43mwd\u001b[49m\u001b[43m,\u001b[49m\u001b[43m \u001b[49m\u001b[43menv\u001b[49m\u001b[43m)\u001b[49m\n",
      "File \u001b[1;32mc:\\Users\\Joost\\anaconda3\\envs\\ids-env\\Lib\\site-packages\\mrjob\\inline.py:133\u001b[0m, in \u001b[0;36mInlineMRJobRunner._invoke_task_func.<locals>.invoke_task\u001b[1;34m(stdin, stdout, stderr, wd, env)\u001b[0m\n\u001b[0;32m    130\u001b[0m         args \u001b[38;5;241m=\u001b[39m \u001b[38;5;28mlist\u001b[39m(args) \u001b[38;5;241m+\u001b[39m [input_uri, input_uri]\n\u001b[0;32m    132\u001b[0m     task \u001b[38;5;241m=\u001b[39m \u001b[38;5;28mself\u001b[39m\u001b[38;5;241m.\u001b[39m_mrjob_cls(args)\n\u001b[1;32m--> 133\u001b[0m     \u001b[43mtask\u001b[49m\u001b[38;5;241;43m.\u001b[39;49m\u001b[43mexecute\u001b[49m\u001b[43m(\u001b[49m\u001b[43m)\u001b[49m\n\u001b[0;32m    134\u001b[0m \u001b[38;5;28;01mexcept\u001b[39;00m:\n\u001b[0;32m    135\u001b[0m     \u001b[38;5;66;03m# so users can figure out where the exception came from;\u001b[39;00m\n\u001b[0;32m    136\u001b[0m     \u001b[38;5;66;03m# see _log_cause_of_error(). we can't wrap the exception\u001b[39;00m\n\u001b[0;32m    137\u001b[0m     \u001b[38;5;66;03m# because then we lose the stacktrace (which is the whole\u001b[39;00m\n\u001b[0;32m    138\u001b[0m     \u001b[38;5;66;03m# point of the inline runner)\u001b[39;00m\n\u001b[0;32m    140\u001b[0m     \u001b[38;5;28;01mif\u001b[39;00m input_uri:  \u001b[38;5;66;03m# from manifest\u001b[39;00m\n",
      "File \u001b[1;32mc:\\Users\\Joost\\anaconda3\\envs\\ids-env\\Lib\\site-packages\\mrjob\\job.py:681\u001b[0m, in \u001b[0;36mMRJob.execute\u001b[1;34m(self)\u001b[0m\n\u001b[0;32m    678\u001b[0m     \u001b[38;5;28mself\u001b[39m\u001b[38;5;241m.\u001b[39mrun_combiner(\u001b[38;5;28mself\u001b[39m\u001b[38;5;241m.\u001b[39moptions\u001b[38;5;241m.\u001b[39mstep_num)\n\u001b[0;32m    680\u001b[0m \u001b[38;5;28;01melif\u001b[39;00m \u001b[38;5;28mself\u001b[39m\u001b[38;5;241m.\u001b[39moptions\u001b[38;5;241m.\u001b[39mrun_reducer:\n\u001b[1;32m--> 681\u001b[0m     \u001b[38;5;28;43mself\u001b[39;49m\u001b[38;5;241;43m.\u001b[39;49m\u001b[43mrun_reducer\u001b[49m\u001b[43m(\u001b[49m\u001b[38;5;28;43mself\u001b[39;49m\u001b[38;5;241;43m.\u001b[39;49m\u001b[43moptions\u001b[49m\u001b[38;5;241;43m.\u001b[39;49m\u001b[43mstep_num\u001b[49m\u001b[43m)\u001b[49m\n\u001b[0;32m    683\u001b[0m \u001b[38;5;28;01melif\u001b[39;00m \u001b[38;5;28mself\u001b[39m\u001b[38;5;241m.\u001b[39moptions\u001b[38;5;241m.\u001b[39mrun_spark:\n\u001b[0;32m    684\u001b[0m     \u001b[38;5;28mself\u001b[39m\u001b[38;5;241m.\u001b[39mrun_spark(\u001b[38;5;28mself\u001b[39m\u001b[38;5;241m.\u001b[39moptions\u001b[38;5;241m.\u001b[39mstep_num)\n",
      "File \u001b[1;32mc:\\Users\\Joost\\anaconda3\\envs\\ids-env\\Lib\\site-packages\\mrjob\\job.py:795\u001b[0m, in \u001b[0;36mMRJob.run_reducer\u001b[1;34m(self, step_num)\u001b[0m\n\u001b[0;32m    792\u001b[0m \u001b[38;5;66;03m# pick input and output protocol\u001b[39;00m\n\u001b[0;32m    793\u001b[0m read_lines, write_line \u001b[38;5;241m=\u001b[39m \u001b[38;5;28mself\u001b[39m\u001b[38;5;241m.\u001b[39m_wrap_protocols(step_num, \u001b[38;5;124m'\u001b[39m\u001b[38;5;124mreducer\u001b[39m\u001b[38;5;124m'\u001b[39m)\n\u001b[1;32m--> 795\u001b[0m \u001b[43m\u001b[49m\u001b[38;5;28;43;01mfor\u001b[39;49;00m\u001b[43m \u001b[49m\u001b[43mk\u001b[49m\u001b[43m,\u001b[49m\u001b[43m \u001b[49m\u001b[43mv\u001b[49m\u001b[43m \u001b[49m\u001b[38;5;129;43;01min\u001b[39;49;00m\u001b[43m \u001b[49m\u001b[38;5;28;43mself\u001b[39;49m\u001b[38;5;241;43m.\u001b[39;49m\u001b[43mreduce_pairs\u001b[49m\u001b[43m(\u001b[49m\u001b[43mread_lines\u001b[49m\u001b[43m(\u001b[49m\u001b[43m)\u001b[49m\u001b[43m,\u001b[49m\u001b[43m \u001b[49m\u001b[43mstep_num\u001b[49m\u001b[38;5;241;43m=\u001b[39;49m\u001b[43mstep_num\u001b[49m\u001b[43m)\u001b[49m\u001b[43m:\u001b[49m\n\u001b[0;32m    796\u001b[0m \u001b[43m    \u001b[49m\u001b[43mwrite_line\u001b[49m\u001b[43m(\u001b[49m\u001b[43mk\u001b[49m\u001b[43m,\u001b[49m\u001b[43m \u001b[49m\u001b[43mv\u001b[49m\u001b[43m)\u001b[49m\n",
      "File \u001b[1;32mc:\\Users\\Joost\\anaconda3\\envs\\ids-env\\Lib\\site-packages\\mrjob\\job.py:866\u001b[0m, in \u001b[0;36mMRJob.reduce_pairs\u001b[1;34m(self, pairs, step_num)\u001b[0m\n\u001b[0;32m    853\u001b[0m \u001b[38;5;28;01mdef\u001b[39;00m\u001b[38;5;250m \u001b[39m\u001b[38;5;21mreduce_pairs\u001b[39m(\u001b[38;5;28mself\u001b[39m, pairs, step_num\u001b[38;5;241m=\u001b[39m\u001b[38;5;241m0\u001b[39m):\n\u001b[0;32m    854\u001b[0m \u001b[38;5;250m    \u001b[39m\u001b[38;5;124;03m\"\"\"Runs :py:meth:`reducer_init`,\u001b[39;00m\n\u001b[0;32m    855\u001b[0m \u001b[38;5;124;03m    :py:meth:`reducer`, and :py:meth:`reducer_final`\u001b[39;00m\n\u001b[0;32m    856\u001b[0m \u001b[38;5;124;03m    for one reduce task in one step.\u001b[39;00m\n\u001b[1;32m   (...)\u001b[0m\n\u001b[0;32m    864\u001b[0m \u001b[38;5;124;03m    .. versionadded:: 0.6.7\u001b[39;00m\n\u001b[0;32m    865\u001b[0m \u001b[38;5;124;03m    \"\"\"\u001b[39;00m\n\u001b[1;32m--> 866\u001b[0m \u001b[43m    \u001b[49m\u001b[38;5;28;43;01mfor\u001b[39;49;00m\u001b[43m \u001b[49m\u001b[43mk\u001b[49m\u001b[43m,\u001b[49m\u001b[43m \u001b[49m\u001b[43mv\u001b[49m\u001b[43m \u001b[49m\u001b[38;5;129;43;01min\u001b[39;49;00m\u001b[43m \u001b[49m\u001b[38;5;28;43mself\u001b[39;49m\u001b[38;5;241;43m.\u001b[39;49m\u001b[43m_combine_or_reduce_pairs\u001b[49m\u001b[43m(\u001b[49m\u001b[43mpairs\u001b[49m\u001b[43m,\u001b[49m\u001b[43m \u001b[49m\u001b[38;5;124;43m'\u001b[39;49m\u001b[38;5;124;43mreducer\u001b[39;49m\u001b[38;5;124;43m'\u001b[39;49m\u001b[43m,\u001b[49m\u001b[43m \u001b[49m\u001b[43mstep_num\u001b[49m\u001b[43m)\u001b[49m\u001b[43m:\u001b[49m\n\u001b[0;32m    867\u001b[0m \u001b[43m        \u001b[49m\u001b[38;5;28;43;01myield\u001b[39;49;00m\u001b[43m \u001b[49m\u001b[43mk\u001b[49m\u001b[43m,\u001b[49m\u001b[43m \u001b[49m\u001b[43mv\u001b[49m\n",
      "File \u001b[1;32mc:\\Users\\Joost\\anaconda3\\envs\\ids-env\\Lib\\site-packages\\mrjob\\job.py:889\u001b[0m, in \u001b[0;36mMRJob._combine_or_reduce_pairs\u001b[1;34m(self, pairs, mrc, step_num)\u001b[0m\n\u001b[0;32m    887\u001b[0m \u001b[38;5;28;01mfor\u001b[39;00m key, pairs_for_key \u001b[38;5;129;01min\u001b[39;00m itertools\u001b[38;5;241m.\u001b[39mgroupby(pairs, \u001b[38;5;28;01mlambda\u001b[39;00m k_v: k_v[\u001b[38;5;241m0\u001b[39m]):\n\u001b[0;32m    888\u001b[0m     values \u001b[38;5;241m=\u001b[39m (value \u001b[38;5;28;01mfor\u001b[39;00m _, value \u001b[38;5;129;01min\u001b[39;00m pairs_for_key)\n\u001b[1;32m--> 889\u001b[0m \u001b[43m    \u001b[49m\u001b[38;5;28;43;01mfor\u001b[39;49;00m\u001b[43m \u001b[49m\u001b[43mk\u001b[49m\u001b[43m,\u001b[49m\u001b[43m \u001b[49m\u001b[43mv\u001b[49m\u001b[43m \u001b[49m\u001b[38;5;129;43;01min\u001b[39;49;00m\u001b[43m \u001b[49m\u001b[43mtask\u001b[49m\u001b[43m(\u001b[49m\u001b[43mkey\u001b[49m\u001b[43m,\u001b[49m\u001b[43m \u001b[49m\u001b[43mvalues\u001b[49m\u001b[43m)\u001b[49m\u001b[43m \u001b[49m\u001b[38;5;129;43;01mor\u001b[39;49;00m\u001b[43m \u001b[49m\u001b[43m(\u001b[49m\u001b[43m)\u001b[49m\u001b[43m:\u001b[49m\n\u001b[0;32m    890\u001b[0m \u001b[43m        \u001b[49m\u001b[38;5;28;43;01myield\u001b[39;49;00m\u001b[43m \u001b[49m\u001b[43mk\u001b[49m\u001b[43m,\u001b[49m\u001b[43m \u001b[49m\u001b[43mv\u001b[49m\n\u001b[0;32m    892\u001b[0m \u001b[38;5;28;01mif\u001b[39;00m task_final:\n",
      "File \u001b[1;32mc:\\Users\\Joost\\workspace\\IDS\\Assignment 2\\distributed_data_processing\\best_movies.py:46\u001b[0m, in \u001b[0;36mBestMovies.reduce_2\u001b[1;34m(self, key, values)\u001b[0m\n\u001b[0;32m     45\u001b[0m \u001b[38;5;28;01mdef\u001b[39;00m\u001b[38;5;250m \u001b[39m\u001b[38;5;21mreduce_2\u001b[39m(\u001b[38;5;28mself\u001b[39m, key, values):\n\u001b[1;32m---> 46\u001b[0m     \u001b[38;5;28;43mprint\u001b[39;49m\u001b[43m(\u001b[49m\u001b[43mkey\u001b[49m\u001b[43m,\u001b[49m\u001b[43m \u001b[49m\u001b[43mvalues\u001b[49m\u001b[43m)\u001b[49m\n\u001b[0;32m     47\u001b[0m     top_movies \u001b[38;5;241m=\u001b[39m \u001b[38;5;28msorted\u001b[39m(values, key\u001b[38;5;241m=\u001b[39m\u001b[38;5;28;01mlambda\u001b[39;00m x: (\u001b[38;5;241m-\u001b[39mx[\u001b[38;5;241m1\u001b[39m], \u001b[38;5;241m-\u001b[39mx[\u001b[38;5;241m2\u001b[39m]))[:\u001b[38;5;241m11\u001b[39m]\n\u001b[0;32m     48\u001b[0m     \u001b[38;5;28;01mfor\u001b[39;00m movie \u001b[38;5;129;01min\u001b[39;00m top_movies:\n",
      "\u001b[1;31mTypeError\u001b[0m: a bytes-like object is required, not 'str'"
     ]
    }
   ],
   "source": [
    "from distributed_data_processing.best_movies import BestMovies\n",
    "\n",
    "best_movies = BestMovies(args=['-r', 'inline', 'distributed_data_processing/ratings.csv', '-o', 'distributed_data_processing/top'])\n",
    "with best_movies.make_runner() as runner:\n",
    "    runner.run()\n",
    "    # print first ten results\n",
    "    for i, (key, value) in zip(range(10), best_movies.parse_output(runner.cat_output())):\n",
    "        print(i, key, value)"
   ]
  },
  {
   "cell_type": "markdown",
   "id": "d98baa3176629aa2",
   "metadata": {},
   "source": [
    "# b)"
   ]
  },
  {
   "cell_type": "code",
   "execution_count": null,
   "id": "5bfadc0c2cbc410a",
   "metadata": {},
   "outputs": [],
   "source": [
    "from distributed_data_processing.haters import Haters\n",
    "\n",
    "movie_haters = Haters(args=['-r', 'inline', 'distributed_data_processing/ratings.csv', '-o', 'distributed_data_processing/haters'])\n",
    "with movie_haters.make_runner() as runner:\n",
    "    runner.run()\n",
    "    # print first ten results\n",
    "    for i, (key, value) in zip(range(10), movie_haters.parse_output(runner.cat_output())):\n",
    "        print(i, key, value)"
   ]
  },
  {
   "cell_type": "markdown",
   "id": "cff5a3df7f7acfbc",
   "metadata": {},
   "source": [
    "# Supplementary\n",
    "To see the actual movie names."
   ]
  },
  {
   "cell_type": "code",
   "execution_count": null,
   "id": "4a1193d8e9867534",
   "metadata": {},
   "outputs": [],
   "source": [
    "from distributed_data_processing.movie_id_to_name import MovieIdToName\n",
    "joining_names = MovieIdToName(args=['-r', 'inline', 'distributed_data_processing/top', '-o', 'distributed_data_processing/top_readable'])\n",
    "with joining_names.make_runner() as runner:\n",
    "    runner.run()\n",
    "    for i, (key, value) in zip(range(10), joining_names.parse_output(runner.cat_output())):\n",
    "        print(value)"
   ]
  }
 ],
 "metadata": {
  "kernelspec": {
   "display_name": "ids-env",
   "language": "python",
   "name": "python3"
  },
  "language_info": {
   "codemirror_mode": {
    "name": "ipython",
    "version": 3
   },
   "file_extension": ".py",
   "mimetype": "text/x-python",
   "name": "python",
   "nbconvert_exporter": "python",
   "pygments_lexer": "ipython3",
   "version": "3.12.8"
  }
 },
 "nbformat": 4,
 "nbformat_minor": 5
}
