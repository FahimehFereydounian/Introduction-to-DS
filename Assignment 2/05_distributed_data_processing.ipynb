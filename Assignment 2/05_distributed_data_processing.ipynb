{
 "cells": [
  {
   "cell_type": "markdown",
   "id": "8ada8a3e28064642",
   "metadata": {},
   "source": [
    "# Distributed Data Processing -- Map Reduce"
   ]
  },
  {
   "cell_type": "markdown",
   "id": "f73a053170571c50",
   "metadata": {},
   "source": [
    "This scaffolding allows you to test your MR jobs that you've implemented for a) in `distributed_data_processing/best_movies.py` and for b) in `distributed_data_processing/haters.py`."
   ]
  },
  {
   "cell_type": "markdown",
   "id": "449d133fa3b8a59a",
   "metadata": {},
   "source": [
    "## a)"
   ]
  },
  {
   "cell_type": "code",
   "execution_count": 11,
   "id": "d194a459d91b017c",
   "metadata": {},
   "outputs": [
    {
     "name": "stderr",
     "output_type": "stream",
     "text": [
      "No configs specified for inline runner\n"
     ]
    },
    {
     "name": "stdout",
     "output_type": "stream",
     "text": [
      "0 1041 1041,4.590909090909091,11\n",
      "\n",
      "1 3451 3451,4.545454545454546,11\n",
      "\n",
      "2 1178 1178,4.541666666666667,12\n",
      "\n",
      "3 1104 1104,4.475,20\n",
      "\n",
      "4 2360 2360,4.458333333333333,12\n",
      "\n",
      "5 1217 1217,4.433333333333334,15\n",
      "\n",
      "6 318 318,4.429022082018927,317\n",
      "\n",
      "7 951 951,4.392857142857143,14\n",
      "\n",
      "8 1927 1927,4.35,10\n",
      "\n",
      "9 922 922,4.333333333333333,27\n",
      "\n"
     ]
    },
    {
     "data": {
      "text/html": [
       "<div>\n",
       "<style scoped>\n",
       "    .dataframe tbody tr th:only-of-type {\n",
       "        vertical-align: middle;\n",
       "    }\n",
       "\n",
       "    .dataframe tbody tr th {\n",
       "        vertical-align: top;\n",
       "    }\n",
       "\n",
       "    .dataframe thead th {\n",
       "        text-align: right;\n",
       "    }\n",
       "</style>\n",
       "<table border=\"1\" class=\"dataframe\">\n",
       "  <thead>\n",
       "    <tr style=\"text-align: right;\">\n",
       "      <th></th>\n",
       "      <th>movie_id</th>\n",
       "      <th>average_rating</th>\n",
       "      <th>num_ratings</th>\n",
       "    </tr>\n",
       "  </thead>\n",
       "  <tbody>\n",
       "    <tr>\n",
       "      <th>1</th>\n",
       "      <td>1041</td>\n",
       "      <td>4.590909</td>\n",
       "      <td>11</td>\n",
       "    </tr>\n",
       "    <tr>\n",
       "      <th>2</th>\n",
       "      <td>3451</td>\n",
       "      <td>4.545455</td>\n",
       "      <td>11</td>\n",
       "    </tr>\n",
       "    <tr>\n",
       "      <th>3</th>\n",
       "      <td>1178</td>\n",
       "      <td>4.541667</td>\n",
       "      <td>12</td>\n",
       "    </tr>\n",
       "    <tr>\n",
       "      <th>4</th>\n",
       "      <td>1104</td>\n",
       "      <td>4.475000</td>\n",
       "      <td>20</td>\n",
       "    </tr>\n",
       "    <tr>\n",
       "      <th>5</th>\n",
       "      <td>2360</td>\n",
       "      <td>4.458333</td>\n",
       "      <td>12</td>\n",
       "    </tr>\n",
       "    <tr>\n",
       "      <th>6</th>\n",
       "      <td>1217</td>\n",
       "      <td>4.433333</td>\n",
       "      <td>15</td>\n",
       "    </tr>\n",
       "    <tr>\n",
       "      <th>7</th>\n",
       "      <td>318</td>\n",
       "      <td>4.429022</td>\n",
       "      <td>317</td>\n",
       "    </tr>\n",
       "    <tr>\n",
       "      <th>8</th>\n",
       "      <td>951</td>\n",
       "      <td>4.392857</td>\n",
       "      <td>14</td>\n",
       "    </tr>\n",
       "    <tr>\n",
       "      <th>9</th>\n",
       "      <td>1927</td>\n",
       "      <td>4.350000</td>\n",
       "      <td>10</td>\n",
       "    </tr>\n",
       "    <tr>\n",
       "      <th>10</th>\n",
       "      <td>922</td>\n",
       "      <td>4.333333</td>\n",
       "      <td>27</td>\n",
       "    </tr>\n",
       "  </tbody>\n",
       "</table>\n",
       "</div>"
      ],
      "text/plain": [
       "   movie_id  average_rating  num_ratings\n",
       "1      1041        4.590909           11\n",
       "2      3451        4.545455           11\n",
       "3      1178        4.541667           12\n",
       "4      1104        4.475000           20\n",
       "5      2360        4.458333           12\n",
       "6      1217        4.433333           15\n",
       "7       318        4.429022          317\n",
       "8       951        4.392857           14\n",
       "9      1927        4.350000           10\n",
       "10      922        4.333333           27"
      ]
     },
     "metadata": {},
     "output_type": "display_data"
    }
   ],
   "source": [
    "# %load_ext autoreload\n",
    "# %autoreload 2\n",
    "import pandas as pd\n",
    "from distributed_data_processing.best_movies_2 import BestMovies\n",
    "\n",
    "best_movies = BestMovies(args=['-r', 'inline', 'distributed_data_processing/ratings.csv', '-o', 'distributed_data_processing/top'])\n",
    "with best_movies.make_runner() as runner:\n",
    "    runner.run()\n",
    "    # print first ten results\n",
    "    top_movies = []\n",
    "    for i, (key, value) in zip(range(10), best_movies.parse_output(runner.cat_output())):\n",
    "        if type(value) == str:\n",
    "            key, average_rating, num_ratings = value.split(',')\n",
    "            top_movies.append({'movie_id': key, 'average_rating': float(average_rating), 'num_ratings': int(num_ratings.replace('\\n', ''))})    \n",
    "            print(i, key, value)\n",
    "    display(pd.DataFrame(top_movies, index=range(1,11), columns=['movie_id', 'average_rating', 'num_ratings']))\n",
    "        # "
   ]
  },
  {
   "cell_type": "markdown",
   "id": "d98baa3176629aa2",
   "metadata": {},
   "source": [
    "# b)"
   ]
  },
  {
   "cell_type": "code",
   "execution_count": null,
   "id": "5bfadc0c2cbc410a",
   "metadata": {},
   "outputs": [],
   "source": [
    "from distributed_data_processing.haters import Haters\n",
    "\n",
    "movie_haters = Haters(args=['-r', 'inline', 'distributed_data_processing/ratings.csv', '-o', 'distributed_data_processing/haters'])\n",
    "with movie_haters.make_runner() as runner:\n",
    "    runner.run()\n",
    "    # print first ten results\n",
    "    for i, (key, value) in zip(range(10), movie_haters.parse_output(runner.cat_output())):\n",
    "        print(i, key, value)"
   ]
  },
  {
   "cell_type": "markdown",
   "id": "cff5a3df7f7acfbc",
   "metadata": {},
   "source": [
    "# Supplementary\n",
    "To see the actual movie names."
   ]
  },
  {
   "cell_type": "code",
   "execution_count": null,
   "id": "4a1193d8e9867534",
   "metadata": {},
   "outputs": [],
   "source": [
    "from distributed_data_processing.movie_id_to_name import MovieIdToName\n",
    "joining_names = MovieIdToName(args=['-r', 'inline', 'distributed_data_processing/top', '-o', 'distributed_data_processing/top_readable'])\n",
    "with joining_names.make_runner() as runner:\n",
    "    runner.run()\n",
    "    for i, (key, value) in zip(range(10), joining_names.parse_output(runner.cat_output())):\n",
    "        print(value)"
   ]
  }
 ],
 "metadata": {
  "kernelspec": {
   "display_name": "ids-env",
   "language": "python",
   "name": "python3"
  },
  "language_info": {
   "codemirror_mode": {
    "name": "ipython",
    "version": 3
   },
   "file_extension": ".py",
   "mimetype": "text/x-python",
   "name": "python",
   "nbconvert_exporter": "python",
   "pygments_lexer": "ipython3",
   "version": "3.12.8"
  }
 },
 "nbformat": 4,
 "nbformat_minor": 5
}
