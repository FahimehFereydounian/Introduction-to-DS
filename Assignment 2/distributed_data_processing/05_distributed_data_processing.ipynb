{
 "cells": [
  {
   "cell_type": "markdown",
   "id": "8ada8a3e28064642",
   "metadata": {},
   "source": [
    "# Distributed Data Processing -- Map Reduce"
   ]
  },
  {
   "cell_type": "markdown",
   "id": "f73a053170571c50",
   "metadata": {},
   "source": [
    "This scaffolding allows you to test your MR jobs that you've implemented for a) in `distributed_data_processing/best_movies.py` and for b) in `distributed_data_processing/haters.py`."
   ]
  },
  {
   "cell_type": "markdown",
   "id": "449d133fa3b8a59a",
   "metadata": {},
   "source": [
    "## a)"
   ]
  },
  {
   "cell_type": "code",
   "execution_count": 18,
   "id": "d194a459d91b017c",
   "metadata": {},
   "outputs": [
    {
     "name": "stderr",
     "output_type": "stream",
     "text": [
      "No configs specified for inline runner\n"
     ]
    },
    {
     "name": "stdout",
     "output_type": "stream",
     "text": [
      "0 None None,[1041, 4.590909090909091, 11]\n",
      "\n",
      "1 None None,[3451, 4.545454545454546, 11]\n",
      "\n",
      "2 None None,[1178, 4.541666666666667, 12]\n",
      "\n",
      "3 None None,[1104, 4.475, 20]\n",
      "\n",
      "4 None None,[2360, 4.458333333333333, 12]\n",
      "\n",
      "5 None None,[1217, 4.433333333333334, 15]\n",
      "\n",
      "6 None None,[318, 4.429022082018927, 317]\n",
      "\n",
      "7 None None,[951, 4.392857142857143, 14]\n",
      "\n"
     ]
    },
    {
     "data": {
      "text/html": [
       "<div>\n",
       "<style scoped>\n",
       "    .dataframe tbody tr th:only-of-type {\n",
       "        vertical-align: middle;\n",
       "    }\n",
       "\n",
       "    .dataframe tbody tr th {\n",
       "        vertical-align: top;\n",
       "    }\n",
       "\n",
       "    .dataframe thead th {\n",
       "        text-align: right;\n",
       "    }\n",
       "</style>\n",
       "<table border=\"1\" class=\"dataframe\">\n",
       "  <thead>\n",
       "    <tr style=\"text-align: right;\">\n",
       "      <th></th>\n",
       "      <th>movie_id</th>\n",
       "      <th>average_rating</th>\n",
       "      <th>num_ratings</th>\n",
       "    </tr>\n",
       "  </thead>\n",
       "  <tbody>\n",
       "    <tr>\n",
       "      <th>1</th>\n",
       "      <td>[1041</td>\n",
       "      <td>4.590909</td>\n",
       "      <td>11]</td>\n",
       "    </tr>\n",
       "    <tr>\n",
       "      <th>2</th>\n",
       "      <td>[3451</td>\n",
       "      <td>4.545455</td>\n",
       "      <td>11]</td>\n",
       "    </tr>\n",
       "    <tr>\n",
       "      <th>3</th>\n",
       "      <td>[1178</td>\n",
       "      <td>4.541667</td>\n",
       "      <td>12]</td>\n",
       "    </tr>\n",
       "    <tr>\n",
       "      <th>4</th>\n",
       "      <td>[1104</td>\n",
       "      <td>4.475000</td>\n",
       "      <td>20]</td>\n",
       "    </tr>\n",
       "    <tr>\n",
       "      <th>5</th>\n",
       "      <td>[2360</td>\n",
       "      <td>4.458333</td>\n",
       "      <td>12]</td>\n",
       "    </tr>\n",
       "    <tr>\n",
       "      <th>6</th>\n",
       "      <td>[1217</td>\n",
       "      <td>4.433333</td>\n",
       "      <td>15]</td>\n",
       "    </tr>\n",
       "    <tr>\n",
       "      <th>7</th>\n",
       "      <td>[318</td>\n",
       "      <td>4.429022</td>\n",
       "      <td>317]</td>\n",
       "    </tr>\n",
       "    <tr>\n",
       "      <th>8</th>\n",
       "      <td>[951</td>\n",
       "      <td>4.392857</td>\n",
       "      <td>14]</td>\n",
       "    </tr>\n",
       "  </tbody>\n",
       "</table>\n",
       "</div>"
      ],
      "text/plain": [
       "  movie_id  average_rating num_ratings\n",
       "1    [1041        4.590909         11]\n",
       "2    [3451        4.545455         11]\n",
       "3    [1178        4.541667         12]\n",
       "4    [1104        4.475000         20]\n",
       "5    [2360        4.458333         12]\n",
       "6    [1217        4.433333         15]\n",
       "7     [318        4.429022        317]\n",
       "8     [951        4.392857         14]"
      ]
     },
     "metadata": {},
     "output_type": "display_data"
    }
   ],
   "source": [
    "# %load_ext autoreload\n",
    "# %autoreload 2\n",
    "import pandas as pd\n",
    "from best_movies import BestMovies\n",
    "\n",
    "best_movies = BestMovies(args=['-r', 'inline', 'ratings.csv', '-o', 'top'])\n",
    "with best_movies.make_runner() as runner:\n",
    "    runner.run()\n",
    "    # print first ten results\n",
    "    top_movies = []\n",
    "    for i, (key, value) in zip(range(8), best_movies.parse_output(runner.cat_output())):\n",
    "        if type(value) == str:\n",
    "            key, movie_id, average_rating, num_ratings = value.split(',')\n",
    "            top_movies.append({'movie_id': movie_id, 'average_rating': float(average_rating), 'num_ratings': num_ratings.replace('\\n', '')})    \n",
    "            print(i, key, value)\n",
    "    display(pd.DataFrame(top_movies, index=range(1,9), columns=['movie_id', 'average_rating', 'num_ratings']))\n",
    "        # "
   ]
  },
  {
   "cell_type": "markdown",
   "id": "d98baa3176629aa2",
   "metadata": {},
   "source": [
    "# b)"
   ]
  },
  {
   "cell_type": "code",
   "execution_count": 8,
   "id": "5bfadc0c2cbc410a",
   "metadata": {},
   "outputs": [
    {
     "name": "stderr",
     "output_type": "stream",
     "text": [
      "No configs specified for inline runner\n"
     ]
    },
    {
     "name": "stdout",
     "output_type": "stream",
     "text": [
      "0 None 111\n",
      "1 None 139\n",
      "2 None 153\n",
      "3 None 160\n",
      "4 None 182\n",
      "5 None 19\n",
      "6 None 219\n",
      "7 None 274\n",
      "8 None 287\n",
      "9 None 294\n"
     ]
    }
   ],
   "source": [
    "from haters import Haters\n",
    "\n",
    "movie_haters = Haters(args=['-r', 'inline', 'ratings.csv', '-o', 'haters'])\n",
    "with movie_haters.make_runner() as runner:\n",
    "    runner.run()\n",
    "    # print first ten results\n",
    "    for i, (key, value) in zip(range(10), movie_haters.parse_output(runner.cat_output())):\n",
    "        print(i, key, value)"
   ]
  },
  {
   "cell_type": "markdown",
   "id": "cff5a3df7f7acfbc",
   "metadata": {},
   "source": [
    "# Supplementary\n",
    "To see the actual movie names."
   ]
  },
  {
   "cell_type": "code",
   "execution_count": 9,
   "id": "4a1193d8e9867534",
   "metadata": {},
   "outputs": [
    {
     "name": "stderr",
     "output_type": "stream",
     "text": [
      "No configs specified for inline runner\n"
     ]
    },
    {
     "ename": "FileNotFoundError",
     "evalue": "[Errno 2] No such file or directory: 'distributed_data_processing/movies.csv'",
     "output_type": "error",
     "traceback": [
      "\u001b[1;31m---------------------------------------------------------------------------\u001b[0m",
      "\u001b[1;31mFileNotFoundError\u001b[0m                         Traceback (most recent call last)",
      "Cell \u001b[1;32mIn[9], line 4\u001b[0m\n\u001b[0;32m      2\u001b[0m joining_names \u001b[38;5;241m=\u001b[39m MovieIdToName(args\u001b[38;5;241m=\u001b[39m[\u001b[38;5;124m'\u001b[39m\u001b[38;5;124m-r\u001b[39m\u001b[38;5;124m'\u001b[39m, \u001b[38;5;124m'\u001b[39m\u001b[38;5;124minline\u001b[39m\u001b[38;5;124m'\u001b[39m, \u001b[38;5;124m'\u001b[39m\u001b[38;5;124mtop\u001b[39m\u001b[38;5;124m'\u001b[39m, \u001b[38;5;124m'\u001b[39m\u001b[38;5;124m-o\u001b[39m\u001b[38;5;124m'\u001b[39m, \u001b[38;5;124m'\u001b[39m\u001b[38;5;124mtop_readable\u001b[39m\u001b[38;5;124m'\u001b[39m])\n\u001b[0;32m      3\u001b[0m \u001b[38;5;28;01mwith\u001b[39;00m joining_names\u001b[38;5;241m.\u001b[39mmake_runner() \u001b[38;5;28;01mas\u001b[39;00m runner:\n\u001b[1;32m----> 4\u001b[0m     \u001b[43mrunner\u001b[49m\u001b[38;5;241;43m.\u001b[39;49m\u001b[43mrun\u001b[49m\u001b[43m(\u001b[49m\u001b[43m)\u001b[49m\n\u001b[0;32m      5\u001b[0m     \u001b[38;5;28;01mfor\u001b[39;00m i, (key, value) \u001b[38;5;129;01min\u001b[39;00m \u001b[38;5;28mzip\u001b[39m(\u001b[38;5;28mrange\u001b[39m(\u001b[38;5;241m10\u001b[39m), joining_names\u001b[38;5;241m.\u001b[39mparse_output(runner\u001b[38;5;241m.\u001b[39mcat_output())):\n\u001b[0;32m      6\u001b[0m         \u001b[38;5;28mprint\u001b[39m(value)\n",
      "File \u001b[1;32mc:\\Users\\Joost\\anaconda3\\envs\\ids-env\\Lib\\site-packages\\mrjob\\runner.py:503\u001b[0m, in \u001b[0;36mMRJobRunner.run\u001b[1;34m(self)\u001b[0m\n\u001b[0;32m    501\u001b[0m \u001b[38;5;28mself\u001b[39m\u001b[38;5;241m.\u001b[39m_add_input_files_for_upload()\n\u001b[0;32m    502\u001b[0m \u001b[38;5;28mself\u001b[39m\u001b[38;5;241m.\u001b[39m_create_input_manifest_if_needed()\n\u001b[1;32m--> 503\u001b[0m \u001b[38;5;28;43mself\u001b[39;49m\u001b[38;5;241;43m.\u001b[39;49m\u001b[43m_run\u001b[49m\u001b[43m(\u001b[49m\u001b[43m)\u001b[49m\n\u001b[0;32m    504\u001b[0m \u001b[38;5;28mself\u001b[39m\u001b[38;5;241m.\u001b[39m_ran_job \u001b[38;5;241m=\u001b[39m \u001b[38;5;28;01mTrue\u001b[39;00m\n\u001b[0;32m    506\u001b[0m last_step \u001b[38;5;241m=\u001b[39m \u001b[38;5;28mself\u001b[39m\u001b[38;5;241m.\u001b[39m_get_steps()[\u001b[38;5;241m-\u001b[39m\u001b[38;5;241m1\u001b[39m]\n",
      "File \u001b[1;32mc:\\Users\\Joost\\anaconda3\\envs\\ids-env\\Lib\\site-packages\\mrjob\\sim.py:161\u001b[0m, in \u001b[0;36mSimMRJobRunner._run\u001b[1;34m(self)\u001b[0m\n\u001b[0;32m    156\u001b[0m log\u001b[38;5;241m.\u001b[39minfo(\u001b[38;5;124m'\u001b[39m\u001b[38;5;124mRunning step \u001b[39m\u001b[38;5;132;01m%d\u001b[39;00m\u001b[38;5;124m of \u001b[39m\u001b[38;5;132;01m%d\u001b[39;00m\u001b[38;5;124m...\u001b[39m\u001b[38;5;124m'\u001b[39m \u001b[38;5;241m%\u001b[39m (\n\u001b[0;32m    157\u001b[0m     step_num \u001b[38;5;241m+\u001b[39m \u001b[38;5;241m1\u001b[39m, \u001b[38;5;28mself\u001b[39m\u001b[38;5;241m.\u001b[39m_num_steps()))\n\u001b[0;32m    159\u001b[0m \u001b[38;5;28mself\u001b[39m\u001b[38;5;241m.\u001b[39m_counters\u001b[38;5;241m.\u001b[39mappend({})\n\u001b[1;32m--> 161\u001b[0m \u001b[38;5;28;43mself\u001b[39;49m\u001b[38;5;241;43m.\u001b[39;49m\u001b[43m_run_step\u001b[49m\u001b[43m(\u001b[49m\u001b[43mstep\u001b[49m\u001b[43m,\u001b[49m\u001b[43m \u001b[49m\u001b[43mstep_num\u001b[49m\u001b[43m)\u001b[49m\n",
      "File \u001b[1;32mc:\\Users\\Joost\\anaconda3\\envs\\ids-env\\Lib\\site-packages\\mrjob\\sim.py:170\u001b[0m, in \u001b[0;36mSimMRJobRunner._run_step\u001b[1;34m(self, step, step_num)\u001b[0m\n\u001b[0;32m    168\u001b[0m     \u001b[38;5;28mself\u001b[39m\u001b[38;5;241m.\u001b[39m_run_step_on_spark(step, step_num)\n\u001b[0;32m    169\u001b[0m \u001b[38;5;28;01melse\u001b[39;00m:\n\u001b[1;32m--> 170\u001b[0m     \u001b[38;5;28;43mself\u001b[39;49m\u001b[38;5;241;43m.\u001b[39;49m\u001b[43m_run_streaming_step\u001b[49m\u001b[43m(\u001b[49m\u001b[43mstep\u001b[49m\u001b[43m,\u001b[49m\u001b[43m \u001b[49m\u001b[43mstep_num\u001b[49m\u001b[43m)\u001b[49m\n",
      "File \u001b[1;32mc:\\Users\\Joost\\anaconda3\\envs\\ids-env\\Lib\\site-packages\\mrjob\\sim.py:175\u001b[0m, in \u001b[0;36mSimMRJobRunner._run_streaming_step\u001b[1;34m(self, step, step_num)\u001b[0m\n\u001b[0;32m    173\u001b[0m \u001b[38;5;250m\u001b[39m\u001b[38;5;124;03m\"\"\"Run a Hadoop streaming step on simulated Hadoop.\"\"\"\u001b[39;00m\n\u001b[0;32m    174\u001b[0m \u001b[38;5;28;01mtry\u001b[39;00m:\n\u001b[1;32m--> 175\u001b[0m     \u001b[38;5;28;43mself\u001b[39;49m\u001b[38;5;241;43m.\u001b[39;49m\u001b[43m_create_dist_cache_dir\u001b[49m\u001b[43m(\u001b[49m\u001b[43mstep_num\u001b[49m\u001b[43m)\u001b[49m\n\u001b[0;32m    176\u001b[0m     \u001b[38;5;28mself\u001b[39m\u001b[38;5;241m.\u001b[39mfs\u001b[38;5;241m.\u001b[39mmkdir(\u001b[38;5;28mself\u001b[39m\u001b[38;5;241m.\u001b[39m_output_dir_for_step(step_num))\n\u001b[0;32m    178\u001b[0m     map_splits \u001b[38;5;241m=\u001b[39m \u001b[38;5;28mself\u001b[39m\u001b[38;5;241m.\u001b[39m_split_mapper_input(\n\u001b[0;32m    179\u001b[0m         \u001b[38;5;28mself\u001b[39m\u001b[38;5;241m.\u001b[39m_input_paths_for_step(step_num), step_num)\n",
      "File \u001b[1;32mc:\\Users\\Joost\\anaconda3\\envs\\ids-env\\Lib\\site-packages\\mrjob\\sim.py:308\u001b[0m, in \u001b[0;36mSimMRJobRunner._create_dist_cache_dir\u001b[1;34m(self, step_num)\u001b[0m\n\u001b[0;32m    306\u001b[0m     dest \u001b[38;5;241m=\u001b[39m \u001b[38;5;28mself\u001b[39m\u001b[38;5;241m.\u001b[39m_path_in_dist_cache_dir(name, step_num)\n\u001b[0;32m    307\u001b[0m     log\u001b[38;5;241m.\u001b[39mdebug(\u001b[38;5;124m'\u001b[39m\u001b[38;5;124mcopying \u001b[39m\u001b[38;5;132;01m%s\u001b[39;00m\u001b[38;5;124m -> \u001b[39m\u001b[38;5;132;01m%s\u001b[39;00m\u001b[38;5;124m'\u001b[39m \u001b[38;5;241m%\u001b[39m (path, dest))\n\u001b[1;32m--> 308\u001b[0m     \u001b[43mshutil\u001b[49m\u001b[38;5;241;43m.\u001b[39;49m\u001b[43mcopy\u001b[49m\u001b[43m(\u001b[49m\u001b[43mpath\u001b[49m\u001b[43m,\u001b[49m\u001b[43m \u001b[49m\u001b[43mdest\u001b[49m\u001b[43m)\u001b[49m\n\u001b[0;32m    309\u001b[0m     _chmod_u_rx(dest)\n\u001b[0;32m    311\u001b[0m \u001b[38;5;28;01mfor\u001b[39;00m name, path \u001b[38;5;129;01min\u001b[39;00m \u001b[38;5;28mself\u001b[39m\u001b[38;5;241m.\u001b[39m_working_dir_mgr\u001b[38;5;241m.\u001b[39mname_to_path(\n\u001b[0;32m    312\u001b[0m         \u001b[38;5;124m'\u001b[39m\u001b[38;5;124marchive\u001b[39m\u001b[38;5;124m'\u001b[39m)\u001b[38;5;241m.\u001b[39mitems():\n",
      "File \u001b[1;32mc:\\Users\\Joost\\anaconda3\\envs\\ids-env\\Lib\\shutil.py:435\u001b[0m, in \u001b[0;36mcopy\u001b[1;34m(src, dst, follow_symlinks)\u001b[0m\n\u001b[0;32m    433\u001b[0m \u001b[38;5;28;01mif\u001b[39;00m os\u001b[38;5;241m.\u001b[39mpath\u001b[38;5;241m.\u001b[39misdir(dst):\n\u001b[0;32m    434\u001b[0m     dst \u001b[38;5;241m=\u001b[39m os\u001b[38;5;241m.\u001b[39mpath\u001b[38;5;241m.\u001b[39mjoin(dst, os\u001b[38;5;241m.\u001b[39mpath\u001b[38;5;241m.\u001b[39mbasename(src))\n\u001b[1;32m--> 435\u001b[0m \u001b[43mcopyfile\u001b[49m\u001b[43m(\u001b[49m\u001b[43msrc\u001b[49m\u001b[43m,\u001b[49m\u001b[43m \u001b[49m\u001b[43mdst\u001b[49m\u001b[43m,\u001b[49m\u001b[43m \u001b[49m\u001b[43mfollow_symlinks\u001b[49m\u001b[38;5;241;43m=\u001b[39;49m\u001b[43mfollow_symlinks\u001b[49m\u001b[43m)\u001b[49m\n\u001b[0;32m    436\u001b[0m copymode(src, dst, follow_symlinks\u001b[38;5;241m=\u001b[39mfollow_symlinks)\n\u001b[0;32m    437\u001b[0m \u001b[38;5;28;01mreturn\u001b[39;00m dst\n",
      "File \u001b[1;32mc:\\Users\\Joost\\anaconda3\\envs\\ids-env\\Lib\\shutil.py:260\u001b[0m, in \u001b[0;36mcopyfile\u001b[1;34m(src, dst, follow_symlinks)\u001b[0m\n\u001b[0;32m    258\u001b[0m     os\u001b[38;5;241m.\u001b[39msymlink(os\u001b[38;5;241m.\u001b[39mreadlink(src), dst)\n\u001b[0;32m    259\u001b[0m \u001b[38;5;28;01melse\u001b[39;00m:\n\u001b[1;32m--> 260\u001b[0m     \u001b[38;5;28;01mwith\u001b[39;00m \u001b[38;5;28;43mopen\u001b[39;49m\u001b[43m(\u001b[49m\u001b[43msrc\u001b[49m\u001b[43m,\u001b[49m\u001b[43m \u001b[49m\u001b[38;5;124;43m'\u001b[39;49m\u001b[38;5;124;43mrb\u001b[39;49m\u001b[38;5;124;43m'\u001b[39;49m\u001b[43m)\u001b[49m \u001b[38;5;28;01mas\u001b[39;00m fsrc:\n\u001b[0;32m    261\u001b[0m         \u001b[38;5;28;01mtry\u001b[39;00m:\n\u001b[0;32m    262\u001b[0m             \u001b[38;5;28;01mwith\u001b[39;00m \u001b[38;5;28mopen\u001b[39m(dst, \u001b[38;5;124m'\u001b[39m\u001b[38;5;124mwb\u001b[39m\u001b[38;5;124m'\u001b[39m) \u001b[38;5;28;01mas\u001b[39;00m fdst:\n\u001b[0;32m    263\u001b[0m                 \u001b[38;5;66;03m# macOS\u001b[39;00m\n",
      "\u001b[1;31mFileNotFoundError\u001b[0m: [Errno 2] No such file or directory: 'distributed_data_processing/movies.csv'"
     ]
    }
   ],
   "source": [
    "from movie_id_to_name import MovieIdToName\n",
    "joining_names = MovieIdToName(args=['-r', 'inline', 'top', '-o', 'top_readable'])\n",
    "with joining_names.make_runner() as runner:\n",
    "    runner.run()\n",
    "    for i, (key, value) in zip(range(10), joining_names.parse_output(runner.cat_output())):\n",
    "        print(value)"
   ]
  }
 ],
 "metadata": {
  "kernelspec": {
   "display_name": "ids-env",
   "language": "python",
   "name": "python3"
  },
  "language_info": {
   "codemirror_mode": {
    "name": "ipython",
    "version": 3
   },
   "file_extension": ".py",
   "mimetype": "text/x-python",
   "name": "python",
   "nbconvert_exporter": "python",
   "pygments_lexer": "ipython3",
   "version": "3.12.8"
  }
 },
 "nbformat": 4,
 "nbformat_minor": 5
}
